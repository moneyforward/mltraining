{
 "cells": [
  {
   "cell_type": "markdown",
   "id": "bb4a0030",
   "metadata": {},
   "source": [
    "# 3-4. モデル作成"
   ]
  },
  {
   "cell_type": "code",
   "execution_count": null,
   "id": "a475c6ca",
   "metadata": {},
   "outputs": [],
   "source": [
    "%matplotlib inline\n",
    "import matplotlib.pyplot as plt\n",
    "import pandas as pd\n",
    "from imblearn.under_sampling import RandomUnderSampler\n",
    "from sklearn.metrics import accuracy_score"
   ]
  },
  {
   "cell_type": "code",
   "execution_count": null,
   "id": "4df6cb92",
   "metadata": {},
   "outputs": [],
   "source": [
    "import lightgbm as lgb\n",
    "from sklearn.ensemble import RandomForestClassifier\n",
    "from sklearn.linear_model import LogisticRegression\n",
    "from sklearn.svm import SVC"
   ]
  },
  {
   "cell_type": "markdown",
   "id": "359b0e48",
   "metadata": {},
   "source": [
    "## データの準備"
   ]
  },
  {
   "cell_type": "code",
   "execution_count": null,
   "id": "40840c7b",
   "metadata": {},
   "outputs": [],
   "source": [
    "train = pd.read_csv(\"data/converted_train.csv\")\n",
    "test = pd.read_csv(\"data/converted_test.csv\")"
   ]
  },
  {
   "cell_type": "code",
   "execution_count": null,
   "id": "3822692d",
   "metadata": {},
   "outputs": [],
   "source": [
    "train.head()"
   ]
  },
  {
   "cell_type": "code",
   "execution_count": null,
   "id": "49bf114a",
   "metadata": {},
   "outputs": [],
   "source": [
    "test.head()"
   ]
  },
  {
   "cell_type": "code",
   "execution_count": null,
   "id": "664874f4",
   "metadata": {},
   "outputs": [],
   "source": [
    "X_train = train.drop([\"label\"], axis=1)\n",
    "y_train = train[\"label\"]\n",
    "X_test = test.drop([\"label\"], axis=1)\n",
    "y_test = test[\"label\"]"
   ]
  },
  {
   "cell_type": "markdown",
   "id": "72415c5c",
   "metadata": {},
   "source": [
    "## モデルの訓練"
   ]
  },
  {
   "cell_type": "code",
   "execution_count": null,
   "id": "f95e662d",
   "metadata": {},
   "outputs": [],
   "source": [
    "# LightGBM\n",
    "param = {\n",
    "    \"objective\": \"binary\",\n",
    "    \"boosting_type\": \"gbdt\",\n",
    "    \"num_leaves\": 10, \n",
    "    \"n_estimators\": 50,\n",
    "}\n",
    "lgb_model = lgb.LGBMClassifier(**param)"
   ]
  },
  {
   "cell_type": "code",
   "execution_count": null,
   "id": "3ffc8c6b",
   "metadata": {},
   "outputs": [],
   "source": [
    "# Random Forest\n",
    "random_forest = RandomForestClassifier()"
   ]
  },
  {
   "cell_type": "code",
   "execution_count": null,
   "id": "9274ae4a",
   "metadata": {},
   "outputs": [],
   "source": [
    "# Logistic Regression\n",
    "logistic_regression = LogisticRegression()"
   ]
  },
  {
   "cell_type": "code",
   "execution_count": null,
   "id": "05734dac",
   "metadata": {},
   "outputs": [],
   "source": [
    "# Support Vector Machine\n",
    "svc = SVC()"
   ]
  },
  {
   "cell_type": "code",
   "execution_count": null,
   "id": "8e60f885",
   "metadata": {},
   "outputs": [],
   "source": [
    "model = lgb_model\n",
    "# model = random_forest\n",
    "# model = logistic_regression\n",
    "# model = svc"
   ]
  },
  {
   "cell_type": "code",
   "execution_count": null,
   "id": "b6504082",
   "metadata": {},
   "outputs": [],
   "source": [
    "model.fit(X_train, y_train)"
   ]
  },
  {
   "cell_type": "markdown",
   "id": "dfed812c",
   "metadata": {},
   "source": [
    "## テスト"
   ]
  },
  {
   "cell_type": "code",
   "execution_count": null,
   "id": "a8f22f2d",
   "metadata": {},
   "outputs": [],
   "source": [
    "y_pred = model.predict_proba(X_test)[:, 1]"
   ]
  },
  {
   "cell_type": "code",
   "execution_count": null,
   "id": "4828ad5e",
   "metadata": {},
   "outputs": [],
   "source": [
    "y_pred"
   ]
  },
  {
   "cell_type": "code",
   "execution_count": null,
   "id": "598e0568",
   "metadata": {},
   "outputs": [],
   "source": [
    "accuracy_score(y_test, y_pred>0.5)"
   ]
  },
  {
   "cell_type": "markdown",
   "id": "fcc15213",
   "metadata": {},
   "source": [
    "## アンダーサンプリング\n",
    "labelの偏りが見られるため、アンダーサンプリングを試します。"
   ]
  },
  {
   "cell_type": "code",
   "execution_count": null,
   "id": "4cf30640",
   "metadata": {},
   "outputs": [],
   "source": [
    "y_train.value_counts()"
   ]
  },
  {
   "cell_type": "code",
   "execution_count": null,
   "id": "04e8946d",
   "metadata": {},
   "outputs": [],
   "source": [
    "sampler = RandomUnderSampler()\n",
    "X_us, y_us = sampler.fit_resample(X_train, y_train)"
   ]
  },
  {
   "cell_type": "code",
   "execution_count": null,
   "id": "eaf7a341",
   "metadata": {},
   "outputs": [],
   "source": [
    "y_us.value_counts()"
   ]
  },
  {
   "cell_type": "markdown",
   "id": "f9ffb1a8",
   "metadata": {},
   "source": [
    "上ではLightGBMのscikit-learn APIを使用しましたが、ここではLightGBM独自のAPIを使用しています。"
   ]
  },
  {
   "cell_type": "code",
   "execution_count": null,
   "id": "1b9dc443",
   "metadata": {},
   "outputs": [],
   "source": [
    "train_data = lgb.Dataset(X_us, label=y_us)\n",
    "# train_data = lgb.Dataset(X_train, label=y_train)\n",
    "valid_data = lgb.Dataset(X_test, label=y_test, reference=train_data)"
   ]
  },
  {
   "cell_type": "code",
   "execution_count": null,
   "id": "fd982290",
   "metadata": {},
   "outputs": [],
   "source": [
    "param = {\n",
    "    \"objective\": \"binary\",\n",
    "    \"num_leaves\": 10, \n",
    "    \"metric\": [\"auc\", \"binary_logloss\"],\n",
    "}\n",
    "num_boost_round = 50\n",
    "train_result = {}\n",
    "callbacks = [\n",
    "    lgb.log_evaluation(),\n",
    "    lgb.record_evaluation(train_result),\n",
    "    # lgb.early_stopping(stopping_rounds=5),\n",
    "]\n",
    "booster = lgb.train(param, train_data, num_boost_round, valid_sets=[valid_data], valid_names=[\"Test\"], callbacks=callbacks)"
   ]
  },
  {
   "cell_type": "code",
   "execution_count": null,
   "id": "456cc8d7",
   "metadata": {},
   "outputs": [],
   "source": [
    "y_pred = booster.predict(X_test)\n",
    "accuracy_score(y_test, y_pred>0.5)"
   ]
  },
  {
   "cell_type": "code",
   "execution_count": null,
   "id": "feb9816d",
   "metadata": {},
   "outputs": [],
   "source": [
    "# See feature importance\n",
    "lgb.plot_importance(booster, figsize=(16, 6))"
   ]
  },
  {
   "cell_type": "code",
   "execution_count": null,
   "id": "e65cd3d2",
   "metadata": {},
   "outputs": [],
   "source": [
    "fig = plt.figure(figsize=(16, 6))\n",
    "ax1 = fig.add_subplot(111)\n",
    " \n",
    "# Set labels\n",
    "ax1.set_xlabel(\"Iteration\")\n",
    "ax1.set_ylabel(\"binary logloss\")\n",
    "\n",
    "# Plot the result\n",
    "ax1.plot(train_result[\"Test\"][\"binary_logloss\"], label=\"test loss\")\n",
    "plt.legend()\n",
    "plt.show()"
   ]
  },
  {
   "cell_type": "code",
   "execution_count": null,
   "id": "c6ae4283",
   "metadata": {},
   "outputs": [],
   "source": [
    "fig = plt.figure(figsize=(16, 6))\n",
    "ax1 = fig.add_subplot(111)\n",
    " \n",
    "# Set labels\n",
    "ax1.set_xlabel(\"Iteration\")\n",
    "ax1.set_ylabel(\"binary logloss\")\n",
    "\n",
    "# Plot the result\n",
    "ax1.plot(train_result[\"Test\"][\"auc\"], label=\"auc\")\n",
    "plt.legend()\n",
    "plt.show()"
   ]
  },
  {
   "cell_type": "markdown",
   "id": "d65e08af",
   "metadata": {},
   "source": [
    "次回以降も使うため、LightGBMモデルを保存します。"
   ]
  },
  {
   "cell_type": "code",
   "execution_count": null,
   "id": "ed9c4e5f",
   "metadata": {},
   "outputs": [],
   "source": [
    "booster.save_model(\"model/lightgbm_model.txt\")"
   ]
  },
  {
   "cell_type": "code",
   "execution_count": null,
   "id": "e87da91d",
   "metadata": {},
   "outputs": [],
   "source": []
  }
 ],
 "metadata": {
  "kernelspec": {
   "display_name": "Python 3 (ipykernel)",
   "language": "python",
   "name": "python3"
  },
  "language_info": {
   "codemirror_mode": {
    "name": "ipython",
    "version": 3
   },
   "file_extension": ".py",
   "mimetype": "text/x-python",
   "name": "python",
   "nbconvert_exporter": "python",
   "pygments_lexer": "ipython3",
   "version": "3.8.5"
  }
 },
 "nbformat": 4,
 "nbformat_minor": 5
}
