{
 "cells": [
  {
   "cell_type": "markdown",
   "id": "7437c19a",
   "metadata": {},
   "source": [
    "# 3-3. データ準備 (Feature Engineering)"
   ]
  },
  {
   "cell_type": "code",
   "execution_count": null,
   "id": "c1514f82",
   "metadata": {},
   "outputs": [],
   "source": [
    "import pandas as pd\n",
    "from sklearn.pipeline import make_pipeline\n",
    "from sklearn.compose import make_column_transformer\n",
    "from sklearn.impute import SimpleImputer\n",
    "from sklearn.preprocessing import OrdinalEncoder, MinMaxScaler, StandardScaler, PowerTransformer"
   ]
  },
  {
   "cell_type": "markdown",
   "id": "3d5b92c6",
   "metadata": {},
   "source": [
    "## 訓練データの読み込み"
   ]
  },
  {
   "cell_type": "code",
   "execution_count": null,
   "id": "55f99eff",
   "metadata": {},
   "outputs": [],
   "source": [
    "# 演習データの読み込み\n",
    "train = pd.read_csv(\"data/train.csv\")\n",
    "train.head()"
   ]
  },
  {
   "cell_type": "code",
   "execution_count": null,
   "id": "328f823e",
   "metadata": {},
   "outputs": [],
   "source": [
    "train.info()"
   ]
  },
  {
   "cell_type": "code",
   "execution_count": null,
   "id": "24bc69c0",
   "metadata": {},
   "outputs": [],
   "source": [
    "cat_columns = train.select_dtypes(include=object).columns\n",
    "num_columns = train.select_dtypes(exclude=object).columns"
   ]
  },
  {
   "cell_type": "markdown",
   "id": "b3595ddc",
   "metadata": {},
   "source": [
    "## Feature Engineering"
   ]
  },
  {
   "cell_type": "code",
   "execution_count": null,
   "id": "33ebb450",
   "metadata": {},
   "outputs": [],
   "source": [
    "# カテゴリー変数は欠損値を0で補完した後、OrdinalEncoderでエンコードします。\n",
    "category_transformer = make_pipeline(\n",
    "    SimpleImputer(strategy=\"most_frequent\"),\n",
    "    OrdinalEncoder(),\n",
    ")"
   ]
  },
  {
   "cell_type": "code",
   "execution_count": null,
   "id": "e7beab27",
   "metadata": {},
   "outputs": [],
   "source": [
    "# 数値変数をMinMaxScalerで変換する場合\n",
    "minmax_transformer = make_column_transformer(\n",
    "    (category_transformer, cat_columns),\n",
    "    (MinMaxScaler(), num_columns),\n",
    ")"
   ]
  },
  {
   "cell_type": "code",
   "execution_count": null,
   "id": "86e4d3c7",
   "metadata": {},
   "outputs": [],
   "source": [
    "# 数値変数をStandardScalerで変換する場合\n",
    "standard_transformer = make_column_transformer(\n",
    "    (category_transformer, cat_columns),\n",
    "    (StandardScaler(), num_columns),\n",
    ")"
   ]
  },
  {
   "cell_type": "code",
   "execution_count": null,
   "id": "f20296a9",
   "metadata": {},
   "outputs": [],
   "source": [
    "# 数値変数をPowerTransformerで変換する場合\n",
    "power_transformer = make_column_transformer(\n",
    "    (category_transformer, cat_columns),\n",
    "    (PowerTransformer(), num_columns),\n",
    ")"
   ]
  },
  {
   "cell_type": "code",
   "execution_count": null,
   "id": "40452c55",
   "metadata": {},
   "outputs": [],
   "source": [
    "transformer = minmax_transformer"
   ]
  },
  {
   "cell_type": "code",
   "execution_count": null,
   "id": "cd4b9539",
   "metadata": {},
   "outputs": [],
   "source": [
    "transformed_columns = cat_columns.append(num_columns)"
   ]
  },
  {
   "cell_type": "markdown",
   "id": "61c54fc6",
   "metadata": {},
   "source": [
    "訓練データに対しては fit_transform() を使う。"
   ]
  },
  {
   "cell_type": "code",
   "execution_count": null,
   "id": "21869da9",
   "metadata": {},
   "outputs": [],
   "source": [
    "transformed_data = transformer.fit_transform(train)\n",
    "transformed_data = pd.DataFrame(transformed_data, columns=transformed_columns)\n",
    "train = transformed_data[train.columns]"
   ]
  },
  {
   "cell_type": "code",
   "execution_count": null,
   "id": "65c48187",
   "metadata": {},
   "outputs": [],
   "source": [
    "train"
   ]
  },
  {
   "cell_type": "code",
   "execution_count": null,
   "id": "5540ae3c",
   "metadata": {},
   "outputs": [],
   "source": [
    "train.describe()"
   ]
  },
  {
   "cell_type": "markdown",
   "id": "6f11512c",
   "metadata": {},
   "source": [
    "## テストデータの読み込み"
   ]
  },
  {
   "cell_type": "code",
   "execution_count": null,
   "id": "7c9d0ee8",
   "metadata": {},
   "outputs": [],
   "source": [
    "test = pd.read_csv(\"data/test.csv\")\n",
    "test.head()"
   ]
  },
  {
   "cell_type": "markdown",
   "id": "468507e2",
   "metadata": {},
   "source": [
    "テストデータに対しては transform() を使う。"
   ]
  },
  {
   "cell_type": "code",
   "execution_count": null,
   "id": "fa08bbec",
   "metadata": {},
   "outputs": [],
   "source": [
    "transformed_data = transformer.transform(test)\n",
    "transformed_data = pd.DataFrame(transformed_data, columns=transformed_columns)\n",
    "test = transformed_data[test.columns]"
   ]
  },
  {
   "cell_type": "code",
   "execution_count": null,
   "id": "58aa57ab-8b73-4660-a105-f744b38f1904",
   "metadata": {},
   "outputs": [],
   "source": [
    "test.head()"
   ]
  },
  {
   "cell_type": "code",
   "execution_count": null,
   "id": "7380587f",
   "metadata": {},
   "outputs": [],
   "source": [
    "test.describe()"
   ]
  },
  {
   "cell_type": "markdown",
   "id": "3bb236a1",
   "metadata": {},
   "source": [
    "## データの保存"
   ]
  },
  {
   "cell_type": "code",
   "execution_count": null,
   "id": "0ca32862",
   "metadata": {},
   "outputs": [],
   "source": [
    "train.to_csv(\"data/converted_train.csv\", index=False)\n",
    "test.to_csv(\"data/converted_test.csv\", index=False)"
   ]
  }
 ],
 "metadata": {
  "kernelspec": {
   "display_name": "Python 3 (ipykernel)",
   "language": "python",
   "name": "python3"
  },
  "language_info": {
   "codemirror_mode": {
    "name": "ipython",
    "version": 3
   },
   "file_extension": ".py",
   "mimetype": "text/x-python",
   "name": "python",
   "nbconvert_exporter": "python",
   "pygments_lexer": "ipython3",
   "version": "3.8.5"
  }
 },
 "nbformat": 4,
 "nbformat_minor": 5
}
