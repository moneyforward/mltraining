{
 "cells": [
  {
   "cell_type": "markdown",
   "id": "cff3b704",
   "metadata": {},
   "source": [
    "# 3-2. データ理解 (EDA)"
   ]
  },
  {
   "cell_type": "code",
   "execution_count": null,
   "id": "1f0a2ae9",
   "metadata": {},
   "outputs": [],
   "source": [
    "%matplotlib inline\n",
    "import pandas as pd\n",
    "import seaborn as sns"
   ]
  },
  {
   "cell_type": "code",
   "execution_count": null,
   "id": "4a245216",
   "metadata": {},
   "outputs": [],
   "source": [
    "# 演習データの読み込み\n",
    "train = pd.read_csv(\"data/train.csv\")\n",
    "test  = pd.read_csv(\"data/test.csv\")\n",
    "df = pd.concat([train, test]).reset_index(drop=True)\n",
    "df.head()"
   ]
  },
  {
   "cell_type": "markdown",
   "id": "ae40efa1",
   "metadata": {},
   "source": [
    "## 基礎情報"
   ]
  },
  {
   "cell_type": "code",
   "execution_count": null,
   "id": "62bb590c",
   "metadata": {},
   "outputs": [],
   "source": [
    "df.info()"
   ]
  },
  {
   "cell_type": "code",
   "execution_count": null,
   "id": "5eab4f67",
   "metadata": {},
   "outputs": [],
   "source": [
    "df.describe()"
   ]
  },
  {
   "cell_type": "code",
   "execution_count": null,
   "id": "99524b2a",
   "metadata": {},
   "outputs": [],
   "source": [
    "df.describe(include=\"object\")"
   ]
  },
  {
   "cell_type": "markdown",
   "id": "643af249",
   "metadata": {},
   "source": [
    "## 散布図と重ね合わせヒストグラム（pairplot）を使った可視化"
   ]
  },
  {
   "cell_type": "code",
   "execution_count": null,
   "id": "6b53514b",
   "metadata": {},
   "outputs": [],
   "source": [
    "# 目的変数ごとの散布図行列を作成\n",
    "sns.pairplot(df, hue=\"label\")"
   ]
  },
  {
   "cell_type": "markdown",
   "id": "65dde2b8",
   "metadata": {},
   "source": [
    "## Pandas-Profilingを使った可視化"
   ]
  },
  {
   "cell_type": "code",
   "execution_count": null,
   "id": "80414a77",
   "metadata": {},
   "outputs": [],
   "source": [
    "import pandas_profiling"
   ]
  },
  {
   "cell_type": "code",
   "execution_count": null,
   "id": "22a6fce4",
   "metadata": {},
   "outputs": [],
   "source": [
    "# まとめて集計・可視化\n",
    "report = df.profile_report()\n",
    "report"
   ]
  },
  {
   "cell_type": "code",
   "execution_count": null,
   "id": "18b7a7ea",
   "metadata": {},
   "outputs": [],
   "source": [
    "# 集計・可視化の結果を出力\n",
    "report.to_file(\"adult_eda.html\")"
   ]
  },
  {
   "cell_type": "code",
   "execution_count": null,
   "id": "83023139",
   "metadata": {},
   "outputs": [],
   "source": []
  }
 ],
 "metadata": {
  "kernelspec": {
   "display_name": "Python 3 (ipykernel)",
   "language": "python",
   "name": "python3"
  },
  "language_info": {
   "codemirror_mode": {
    "name": "ipython",
    "version": 3
   },
   "file_extension": ".py",
   "mimetype": "text/x-python",
   "name": "python",
   "nbconvert_exporter": "python",
   "pygments_lexer": "ipython3",
   "version": "3.8.5"
  }
 },
 "nbformat": 4,
 "nbformat_minor": 5
}
