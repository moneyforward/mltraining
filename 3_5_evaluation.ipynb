{
 "cells": [
  {
   "cell_type": "markdown",
   "id": "642e8005",
   "metadata": {},
   "source": [
    "# 3-5. 評価"
   ]
  },
  {
   "cell_type": "markdown",
   "id": "fbafc648",
   "metadata": {},
   "source": [
    "## Cross Validation"
   ]
  },
  {
   "cell_type": "code",
   "execution_count": null,
   "id": "64b652d7",
   "metadata": {},
   "outputs": [],
   "source": [
    "%matplotlib inline\n",
    "import matplotlib.pyplot as plt\n",
    "import pandas as pd\n",
    "import lightgbm as lgb\n",
    "from sklearn.model_selection import GridSearchCV, StratifiedKFold\n",
    "from sklearn.metrics import confusion_matrix, ConfusionMatrixDisplay, classification_report, roc_curve, roc_auc_score\n",
    "import shap\n",
    "shap.initjs()"
   ]
  },
  {
   "cell_type": "code",
   "execution_count": null,
   "id": "2f8a668c",
   "metadata": {
    "scrolled": true
   },
   "outputs": [],
   "source": [
    "train = pd.read_csv(\"data/converted_train.csv\")\n",
    "X_train = train.drop([\"label\"], axis=1)\n",
    "y_train = train[\"label\"]"
   ]
  },
  {
   "cell_type": "code",
   "execution_count": null,
   "id": "b8a36cee",
   "metadata": {},
   "outputs": [],
   "source": [
    "lgb_model = lgb.LGBMClassifier()"
   ]
  },
  {
   "cell_type": "code",
   "execution_count": null,
   "id": "29eb11bc",
   "metadata": {},
   "outputs": [],
   "source": [
    "param_grid = {\n",
    "    \"objective\": [\"binary\"],\n",
    "    \"boosting_type\": [\"gbdt\"],\n",
    "    \"num_leaves\": [10, 100], \n",
    "    \"n_estimators\": [50, 100, 500, 1000],\n",
    "}"
   ]
  },
  {
   "cell_type": "code",
   "execution_count": null,
   "id": "7492caf8",
   "metadata": {},
   "outputs": [],
   "source": [
    "cv = GridSearchCV(lgb.LGBMClassifier(), param_grid, cv=StratifiedKFold(5), n_jobs=-1, verbose=True)"
   ]
  },
  {
   "cell_type": "code",
   "execution_count": null,
   "id": "057646e3",
   "metadata": {},
   "outputs": [],
   "source": [
    "cv.fit(X_train, y_train)"
   ]
  },
  {
   "cell_type": "code",
   "execution_count": null,
   "id": "cc4d44f9",
   "metadata": {},
   "outputs": [],
   "source": [
    "cv.best_estimator_"
   ]
  },
  {
   "cell_type": "code",
   "execution_count": null,
   "id": "c68136f8",
   "metadata": {},
   "outputs": [],
   "source": [
    "cv.best_params_"
   ]
  },
  {
   "cell_type": "code",
   "execution_count": null,
   "id": "e4e67a3c",
   "metadata": {},
   "outputs": [],
   "source": [
    "cv.cv_results_[\"mean_test_score\"][cv.best_index_]"
   ]
  },
  {
   "cell_type": "code",
   "execution_count": null,
   "id": "52579cd3",
   "metadata": {},
   "outputs": [],
   "source": [
    "cv.cv_results_[\"std_test_score\"][cv.best_index_]"
   ]
  },
  {
   "cell_type": "markdown",
   "id": "d8d3af79",
   "metadata": {},
   "source": [
    "## テスト"
   ]
  },
  {
   "cell_type": "code",
   "execution_count": null,
   "id": "9a5a82f7",
   "metadata": {},
   "outputs": [],
   "source": [
    "test = pd.read_csv(\"data/converted_test.csv\")\n",
    "X_test = test.drop([\"label\"], axis=1)\n",
    "y_test = test[\"label\"]"
   ]
  },
  {
   "cell_type": "code",
   "execution_count": null,
   "id": "797c8699",
   "metadata": {},
   "outputs": [],
   "source": [
    "model = cv"
   ]
  },
  {
   "cell_type": "code",
   "execution_count": null,
   "id": "374df493",
   "metadata": {},
   "outputs": [],
   "source": [
    "y_pred = model.predict_proba(X_test)[:, 1]"
   ]
  },
  {
   "cell_type": "code",
   "execution_count": null,
   "id": "ff7a06b4",
   "metadata": {},
   "outputs": [],
   "source": [
    "y_pred"
   ]
  },
  {
   "cell_type": "code",
   "execution_count": null,
   "id": "56d28ace",
   "metadata": {},
   "outputs": [],
   "source": [
    "ConfusionMatrixDisplay(confusion_matrix=confusion_matrix(y_test, y_pred>0.5)).plot()"
   ]
  },
  {
   "cell_type": "code",
   "execution_count": null,
   "id": "d5a0d738",
   "metadata": {},
   "outputs": [],
   "source": [
    "print(classification_report(y_test, y_pred>0.5))"
   ]
  },
  {
   "cell_type": "code",
   "execution_count": null,
   "id": "45528a3b",
   "metadata": {},
   "outputs": [],
   "source": [
    "fpr, tpr, thresholds = roc_curve(y_test, y_pred)"
   ]
  },
  {
   "cell_type": "code",
   "execution_count": null,
   "id": "041bfc82",
   "metadata": {},
   "outputs": [],
   "source": [
    "plt.plot(fpr, tpr)"
   ]
  },
  {
   "cell_type": "code",
   "execution_count": null,
   "id": "b0b68b33",
   "metadata": {},
   "outputs": [],
   "source": [
    "roc_auc_score(y_test, y_pred)"
   ]
  },
  {
   "cell_type": "markdown",
   "id": "0756d1fa",
   "metadata": {},
   "source": [
    "## SHAPによる予測の説明"
   ]
  },
  {
   "cell_type": "code",
   "execution_count": null,
   "id": "086c0c78",
   "metadata": {},
   "outputs": [],
   "source": [
    "explainer = shap.TreeExplainer(cv.best_estimator_)\n",
    "shap_values = explainer.shap_values(X_test)"
   ]
  },
  {
   "cell_type": "code",
   "execution_count": null,
   "id": "37da4263",
   "metadata": {},
   "outputs": [],
   "source": [
    "shap.summary_plot(shap_values=shap_values[1], features=X_test, feature_names=X_test.columns)"
   ]
  },
  {
   "cell_type": "code",
   "execution_count": null,
   "id": "37b3e986",
   "metadata": {},
   "outputs": [],
   "source": [
    "n = 50"
   ]
  },
  {
   "cell_type": "code",
   "execution_count": null,
   "id": "08f195eb",
   "metadata": {},
   "outputs": [],
   "source": [
    "shap.force_plot(explainer.expected_value[1], shap_values[1][n,:], X_test.columns)"
   ]
  },
  {
   "cell_type": "code",
   "execution_count": null,
   "id": "26b3d81d",
   "metadata": {},
   "outputs": [],
   "source": [
    "shap.plots._waterfall.waterfall_legacy(\n",
    "    explainer.expected_value[1],\n",
    "    shap_values[1][n,:],\n",
    "    X_test.iloc[n,:]\n",
    ")"
   ]
  },
  {
   "cell_type": "code",
   "execution_count": null,
   "id": "2b8e1919",
   "metadata": {},
   "outputs": [],
   "source": []
  }
 ],
 "metadata": {
  "kernelspec": {
   "display_name": "Python 3 (ipykernel)",
   "language": "python",
   "name": "python3"
  },
  "language_info": {
   "codemirror_mode": {
    "name": "ipython",
    "version": 3
   },
   "file_extension": ".py",
   "mimetype": "text/x-python",
   "name": "python",
   "nbconvert_exporter": "python",
   "pygments_lexer": "ipython3",
   "version": "3.8.5"
  }
 },
 "nbformat": 4,
 "nbformat_minor": 5
}
